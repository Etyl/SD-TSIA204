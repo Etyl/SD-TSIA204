{
 "cells": [
  {
   "cell_type": "code",
   "execution_count": 27,
   "metadata": {},
   "outputs": [],
   "source": [
    "from sklearn.datasets import fetch_california_housing\n",
    "from sklearn.model_selection import train_test_split\n",
    "from sklearn.metrics import mean_squared_error, r2_score\n",
    "from sklearn.preprocessing import StandardScaler\n",
    "import numpy as np\n",
    "import scipy.stats as stats\n",
    "import pandas as pd"
   ]
  },
  {
   "cell_type": "markdown",
   "metadata": {},
   "source": [
    "1) For the first question, we load a standard dataset from sklearn.datasets named\n",
    "fetch_california_housing. This dataset has only p = 8 variables.\n",
    "\n",
    "a) Estimate the coefficients with the expression of the normal equations seen in class. Code two\n",
    "functions to compute the MSE and the R2 coefficient and compare them with the version of\n",
    "sklearn for the train and the test sets."
   ]
  },
  {
   "cell_type": "code",
   "execution_count": 25,
   "metadata": {},
   "outputs": [
    {
     "name": "stdout",
     "output_type": "stream",
     "text": [
      "MSE (Train) - Compute: 0.5972162225084695\n",
      "MSE (Train) - Sklearn: 0.5972162225084695\n",
      "MSE (Test)  - Compute: 0.626459441623385\n",
      "MSE (Test)  - Sklearn: 0.626459441623385\n",
      "R2 (Train)  - Compute: 0.5525291345924784\n",
      "R2 (Train)  - Sklearn: 0.5525291345924784\n",
      "R2 (Test)   - Compute: 0.5260739633022973\n",
      "R2 (Test)   - Sklearn: 0.5260739633022973\n"
     ]
    }
   ],
   "source": [
    "def compute_mse(y, y_hat):\n",
    "    return np.mean((y - y_hat)**2)\n",
    "\n",
    "def compute_r2(y, y_hat):\n",
    "    return 1 - np.sum((y - y_hat)**2) / np.sum((y - np.mean(y))**2)\n",
    "\n",
    "# Load the California housing dataset\n",
    "data = fetch_california_housing()\n",
    "X = data.data\n",
    "y = data.target\n",
    "\n",
    "# Split the data into train and test sets\n",
    "X_train, X_test, y_train, y_test = train_test_split(X, y, random_state=0)\n",
    "\n",
    "# Estimate the coefficients using the normal equations\n",
    "coefficients = np.linalg.inv(X_train.T @ X_train) @ X_train.T @ y_train\n",
    "y_train_pred = X_train @ coefficients\n",
    "y_test_pred = X_test @ coefficients\n",
    "\n",
    "# Print the results\n",
    "print(\"MSE (Train) - Compute:\", compute_mse(y_train, y_train_pred))\n",
    "print(\"MSE (Train) - Sklearn:\", mean_squared_error(y_train, y_train_pred))\n",
    "print(\"MSE (Test)  - Compute:\", compute_mse(y_test, y_test_pred))\n",
    "print(\"MSE (Test)  - Sklearn:\", mean_squared_error(y_test, y_test_pred))\n",
    "print(\"R2 (Train)  - Compute:\", compute_r2(y_train, y_train_pred))\n",
    "print(\"R2 (Train)  - Sklearn:\", r2_score(y_train, y_train_pred))\n",
    "print(\"R2 (Test)   - Compute:\", compute_r2(y_test, y_test_pred))\n",
    "print(\"R2 (Test)   - Sklearn:\", r2_score(y_test, y_test_pred))\n"
   ]
  },
  {
   "cell_type": "markdown",
   "metadata": {},
   "source": [
    "b. Finally, give the confidence intervals at level 99% for all the coefficients coding the expression\n",
    "for the CI seen in session 3."
   ]
  },
  {
   "cell_type": "code",
   "execution_count": 35,
   "metadata": {},
   "outputs": [
    {
     "name": "stdout",
     "output_type": "stream",
     "text": [
      "Coefficient 1: [5.04E-01 , 5.30E-01]\n",
      "Coefficient 2: [1.45E-02 , 1.72E-02]\n",
      "Coefficient 3: [-1.98E-01 , -1.62E-01]\n",
      "Coefficient 4: [7.62E-01 , 9.37E-01]\n",
      "Coefficient 5: [-9.93E-06 , 1.99E-05]\n",
      "Coefficient 6: [-8.41E-03 , -3.58E-03]\n",
      "Coefficient 7: [-7.33E-02 , -5.21E-02]\n",
      "Coefficient 8: [-1.93E-02 , -1.26E-02]\n"
     ]
    }
   ],
   "source": [
    "# Calculate the standard error of the coefficients\n",
    "standard_deviation2 = np.sum((y_train - y_train_pred)**2)/(X_train.shape[0] - X_train.shape[1] - 1)\n",
    "standard_error = np.sqrt(standard_deviation2 * np.diagonal(np.linalg.inv(X_train.T @ X_train)))\n",
    "\n",
    "# Calculate the t-value for a 99% confidence level\n",
    "alpha = 1 - 0.99\n",
    "t_value = stats.t.ppf(1 - alpha/2, df = X_train.shape[0] - (X_train.shape[1]+1))\n",
    "\n",
    "# Calculate the confidence intervals\n",
    "confidence_intervals = np.column_stack((coefficients - t_value * standard_error, coefficients + t_value * standard_error))\n",
    "\n",
    "# Print the confidence intervals\n",
    "for i, interval in enumerate(confidence_intervals):\n",
    "    print(f\"Coefficient {i+1}: [{interval[0]:.2E} , {interval[1]:.2E}]\")\n"
   ]
  },
  {
   "cell_type": "markdown",
   "metadata": {},
   "source": [
    "2) For the rest of the TP, we use the dataset in eCampus data. Load and preprocess the data:\n",
    "\n",
    "(a) Separate the data in train and test sets: save one fourth of the data as testing train_test_split from sklearn.model_selection with the random seed set to 0 and standardize both the training and testing sets using the fit_transform and transform functions in sklearn.preprocessing.StandardScaler."
   ]
  },
  {
   "cell_type": "code",
   "execution_count": 45,
   "metadata": {},
   "outputs": [],
   "source": [
    "# Import the data\n",
    "df = pd.read_csv(\"data.csv\")\n",
    "data, target = df.iloc[:, :-1], df.iloc[:, -1]\n",
    "\n",
    "# Split the data into train and test sets\n",
    "X_train, X_test = train_test_split(data, random_state=0, test_size=0.25)\n",
    "\n",
    "scaler = StandardScaler()\n",
    "\n",
    "# Fit and transform the training set\n",
    "X_train_scaled = scaler.fit_transform(X_train)\n",
    "\n",
    "# Transform the testing set\n",
    "X_test_scaled = scaler.transform(X_test)\n"
   ]
  },
  {
   "cell_type": "markdown",
   "metadata": {},
   "source": [
    "b) Fit a regular OLS"
   ]
  },
  {
   "cell_type": "code",
   "execution_count": null,
   "metadata": {},
   "outputs": [],
   "source": [
    "\n"
   ]
  }
 ],
 "metadata": {
  "kernelspec": {
   "display_name": "Python 3",
   "language": "python",
   "name": "python3"
  },
  "language_info": {
   "codemirror_mode": {
    "name": "ipython",
    "version": 3
   },
   "file_extension": ".py",
   "mimetype": "text/x-python",
   "name": "python",
   "nbconvert_exporter": "python",
   "pygments_lexer": "ipython3",
   "version": "3.11.4"
  }
 },
 "nbformat": 4,
 "nbformat_minor": 2
}
